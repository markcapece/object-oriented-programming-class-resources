{
 "cells": [
  {
   "cell_type": "markdown",
   "metadata": {},
   "source": [
    "# Module 1: Intro to OOP\n",
    "\n",
    "We'll discuss classes, objects, attributes and methods. Also how to initialize objects using the `__init__` method.\n",
    "\n",
    "<img src=\"https://html.com/wp-content/uploads/shapes.png\">"
   ]
  },
  {
   "cell_type": "markdown",
   "metadata": {},
   "source": [
    "### Quick summary of notebooks commands:\n",
    "\n",
    "* `ctrl+return`: Run current cell\n",
    "* `shift+return`: Run current cell and move focus to next one\n",
    "* `a`: Create a new cell above\n",
    "* `b`: Create a new cell below\n",
    "* `dd`: Delete current cell\n",
    "* `z`: Undo previous delete"
   ]
  },
  {
   "cell_type": "markdown",
   "metadata": {},
   "source": [
    "### Basics: Classes, objects and attributes"
   ]
  },
  {
   "cell_type": "markdown",
   "metadata": {},
   "source": [
    "##### Step 1\n",
    "Create two empty classes, Circle and Square!"
   ]
  },
  {
   "cell_type": "code",
   "execution_count": 1,
   "metadata": {},
   "outputs": [],
   "source": [
    "class Circle(object):\n",
    "    pass\n",
    "\n",
    "class Square(object):\n",
    "    pass"
   ]
  },
  {
   "cell_type": "markdown",
   "metadata": {},
   "source": [
    "##### Step 2\n",
    "Create two instances of the class `Circle` (`c1` and `c2`). Assign an attribute `radius` to each one of them with values `1` and `0.5`."
   ]
  },
  {
   "cell_type": "code",
   "execution_count": 2,
   "metadata": {},
   "outputs": [],
   "source": [
    "c1 = Circle()\n",
    "c2 = Circle()\n",
    "\n",
    "c1.radius = 1\n",
    "c2.radius = 0.5"
   ]
  },
  {
   "cell_type": "markdown",
   "metadata": {},
   "source": [
    "##### Step 3\n",
    "Create two instances of the class `Square` (`s1` and `s2`). Assign an attribute `side` to each one of them with values `1` and `2`.\n",
    "\n",
    "_Hint: A circle's area is defined as `Pi * radius^2`_"
   ]
  },
  {
   "cell_type": "code",
   "execution_count": 3,
   "metadata": {},
   "outputs": [],
   "source": [
    "s1 = Square()\n",
    "s2 = Square()\n",
    "\n",
    "s1.side = 1\n",
    "s2.side = 2"
   ]
  },
  {
   "cell_type": "markdown",
   "metadata": {},
   "source": [
    "##### Step 4\n",
    "Compute the area of circles `c1` and `c2`"
   ]
  },
  {
   "cell_type": "code",
   "execution_count": 4,
   "metadata": {},
   "outputs": [
    {
     "name": "stdout",
     "output_type": "stream",
     "text": [
      "Area of C1: 3.141592653589793\n",
      "Area of C2: 0.7853981633974483\n"
     ]
    }
   ],
   "source": [
    "import numpy as np\n",
    "\n",
    "def area_of_circle(radius):\n",
    "    return np.pi * radius**2\n",
    "\n",
    "print(\"Area of C1: {}\".format(area_of_circle(c1.radius)))\n",
    "print(\"Area of C2: {}\".format(area_of_circle(c2.radius)))"
   ]
  },
  {
   "cell_type": "markdown",
   "metadata": {},
   "source": [
    "##### Step 5\n",
    "Define a function `area_of_square` that receives a square and returns its area. Use the function `area_of_square` to compute the areas of both squares previously created."
   ]
  },
  {
   "cell_type": "code",
   "execution_count": 5,
   "metadata": {},
   "outputs": [
    {
     "name": "stdout",
     "output_type": "stream",
     "text": [
      "Area of S1: 1\n",
      "Area of S2: 4\n"
     ]
    }
   ],
   "source": [
    "def area_of_square(square):\n",
    "    return square.side**2\n",
    "    \n",
    "print(\"Area of S1: {}\".format(area_of_square(s1)))\n",
    "print(\"Area of S2: {}\".format(area_of_square(s2)))"
   ]
  },
  {
   "cell_type": "markdown",
   "metadata": {},
   "source": [
    "##### Step 6\n",
    "Define now a more general `area()` function that receives an object and returns the correct area regardless of the object passed. If the object is invalid, it should raise a `ValueError` Exception."
   ]
  },
  {
   "cell_type": "code",
   "execution_count": 6,
   "metadata": {},
   "outputs": [
    {
     "name": "stdout",
     "output_type": "stream",
     "text": [
      "Area of C1: 3.141592653589793\n",
      "Area of C2: 0.7853981633974483\n",
      "Area of S1: 1\n",
      "Area of S2: 4\n"
     ]
    }
   ],
   "source": [
    "import numpy as np\n",
    "\n",
    "def area(obj):\n",
    "    if isinstance(obj, Square):\n",
    "        return obj.side**2\n",
    "    elif isinstance(obj, Circle):\n",
    "        return np.pi*obj.radius**2\n",
    "    raise ValueError(\"Invalid object\")\n",
    "\n",
    "print(\"Area of C1: {}\".format(area(c1)))\n",
    "print(\"Area of C2: {}\".format(area(c2)))\n",
    "print(\"Area of S1: {}\".format(area(s1)))\n",
    "print(\"Area of S2: {}\".format(area(s2)))"
   ]
  },
  {
   "cell_type": "markdown",
   "metadata": {},
   "source": [
    "### Methods"
   ]
  },
  {
   "cell_type": "markdown",
   "metadata": {},
   "source": [
    "##### Step 1\n",
    "Move the area functions into the individual class definitions (Circle/Square) to make them methods. Rename them to be only `area` for each class.\n",
    "\n",
    "Use them to compute the areas of the created objects.\n",
    "\n",
    "_**IMPORTANT**: You'll need to re-define the classes and re-create the instances_."
   ]
  },
  {
   "cell_type": "code",
   "execution_count": 7,
   "metadata": {},
   "outputs": [
    {
     "name": "stdout",
     "output_type": "stream",
     "text": [
      "Area of C1: 3.141592653589793\n",
      "Area of C2: 0.7853981633974483\n",
      "Area of S1: 1\n",
      "Area of S2: 4\n"
     ]
    }
   ],
   "source": [
    "import numpy as np\n",
    "\n",
    "class Circle(object):\n",
    "    def area(self):\n",
    "        return np.pi * self.radius**2\n",
    "\n",
    "class Square(object):\n",
    "    def area(self):\n",
    "        return self.side**2\n",
    "\n",
    "c1 = Circle()\n",
    "c2 = Circle()\n",
    "s1 = Square()\n",
    "s2 = Square()\n",
    "        \n",
    "c1.radius = 1\n",
    "c2.radius = 0.5\n",
    "s1.side = 1\n",
    "s2.side =2\n",
    "    \n",
    "print(\"Area of C1: {}\".format(c1.area()))\n",
    "print(\"Area of C2: {}\".format(c2.area()))\n",
    "print(\"Area of S1: {}\".format(s1.area()))\n",
    "print(\"Area of S2: {}\".format(s2.area()))"
   ]
  },
  {
   "cell_type": "markdown",
   "metadata": {},
   "source": [
    "##### Step 2\n",
    "`a_square`, `a_circle` aren't great parameter names. Use Python's standard convention to refer to the individual instance objects.\n",
    "\n",
    "In the above Step 1 code, replace a_sqauare/a_circle with *self*."
   ]
  },
  {
   "cell_type": "markdown",
   "metadata": {},
   "source": [
    "##### Step 3\n",
    "\n",
    "Create the following functions:\n",
    "\n",
    "**`initialize_circle`:** Takes the radius and initializes the circle. Example:\n",
    "```python\n",
    "c = Circle()\n",
    "initialize(c, radius=1.5)\n",
    "c.radius  # 1.5\n",
    "```\n",
    "\n",
    "**`initialize_square`:** Takes the side and initializes the square. Example:\n",
    "```python\n",
    "s = Square()\n",
    "initialize(s, side=3)\n",
    "s.side  # 3\n",
    "```\n",
    "\n",
    "Re-create the objects `c1`, `c2`, `s1` and `s2` and initialize them using the functions.\n",
    "\n",
    "```python\n",
    "c1 = Circle()\n",
    "c2 = Circle()\n",
    "s1 = Square()\n",
    "s2 = Square()\n",
    "# Initialize them...\n",
    "```"
   ]
  },
  {
   "cell_type": "code",
   "execution_count": 8,
   "metadata": {},
   "outputs": [],
   "source": [
    "def initialize_circle(obj, rad):\n",
    "    obj.radius = rad\n",
    "\n",
    "def initialize_square(obj, sid):\n",
    "    obj.side = sid\n",
    "\n",
    "c1 = Circle()\n",
    "c2 = Circle()\n",
    "s1 = Square()\n",
    "s2 = Square()\n",
    "\n",
    "initialize_circle(c1, 1)\n",
    "initialize_circle(c2, 0.5)\n",
    "initialize_square(s1, 1)\n",
    "initialize_square(s2, 2)"
   ]
  },
  {
   "cell_type": "code",
   "execution_count": 9,
   "metadata": {
    "scrolled": true
   },
   "outputs": [
    {
     "name": "stdout",
     "output_type": "stream",
     "text": [
      "Area of C1: 3.141592653589793\n",
      "Area of C2: 0.7853981633974483\n",
      "Area of S1: 1\n",
      "Area of S2: 4\n"
     ]
    }
   ],
   "source": [
    "print(\"Area of C1: {}\".format(c1.area()))\n",
    "print(\"Area of C2: {}\".format(c2.area()))\n",
    "print(\"Area of S1: {}\".format(s1.area()))\n",
    "print(\"Area of S2: {}\".format(s2.area()))"
   ]
  },
  {
   "cell_type": "markdown",
   "metadata": {},
   "source": [
    "##### Step 4\n",
    "Turn the `initialize_*` methods into the `__init__` method of each class.\n",
    "\n",
    "_(You'll need to redefine the classes and recreate the instances)_"
   ]
  },
  {
   "cell_type": "code",
   "execution_count": 10,
   "metadata": {},
   "outputs": [],
   "source": [
    "import numpy as np\n",
    "\n",
    "class Circle(object):\n",
    "    def __init__(self, radius):\n",
    "        self.radius = radius\n",
    "        \n",
    "    def area(self):\n",
    "        return np.pi * self.radius**2\n",
    "\n",
    "class Square(object):\n",
    "    def __init__(self, side):\n",
    "        self.side = side\n",
    "    \n",
    "    def area(self):\n",
    "        return self.side**2\n",
    "\n",
    "c1 = Circle(1)\n",
    "c2 = Circle(0.5)\n",
    "s1 = Square(1)\n",
    "s2 = Square(2)"
   ]
  },
  {
   "cell_type": "code",
   "execution_count": 11,
   "metadata": {},
   "outputs": [
    {
     "name": "stdout",
     "output_type": "stream",
     "text": [
      "Area of C1: 3.141592653589793\n",
      "Area of C2: 0.7853981633974483\n",
      "Area of S1: 1\n",
      "Area of S2: 4\n"
     ]
    }
   ],
   "source": [
    "print(\"Area of C1: {}\".format(c1.area()))\n",
    "print(\"Area of C2: {}\".format(c2.area()))\n",
    "print(\"Area of S1: {}\".format(s1.area()))\n",
    "print(\"Area of S2: {}\".format(s2.area()))"
   ]
  }
 ],
 "metadata": {
  "kernelspec": {
   "display_name": "Python 3",
   "language": "python",
   "name": "python3"
  },
  "language_info": {
   "codemirror_mode": {
    "name": "ipython",
    "version": 3
   },
   "file_extension": ".py",
   "mimetype": "text/x-python",
   "name": "python",
   "nbconvert_exporter": "python",
   "pygments_lexer": "ipython3",
   "version": "3.7.3"
  }
 },
 "nbformat": 4,
 "nbformat_minor": 2
}
